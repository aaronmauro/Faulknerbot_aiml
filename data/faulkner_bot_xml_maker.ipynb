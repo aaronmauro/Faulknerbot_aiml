{
 "cells": [
  {
   "cell_type": "code",
   "execution_count": 1,
   "metadata": {},
   "outputs": [],
   "source": [
    "import os\n",
    "import re\n",
    "import nltk"
   ]
  },
  {
   "cell_type": "code",
   "execution_count": 6,
   "metadata": {},
   "outputs": [],
   "source": [
    "text = open(\"allNoName.txt\", \"r\").read()"
   ]
  },
  {
   "cell_type": "code",
   "execution_count": 7,
   "metadata": {},
   "outputs": [
    {
     "data": {
      "text/plain": [
       "'Is there any purpose in the repetition of the same'"
      ]
     },
     "execution_count": 7,
     "metadata": {},
     "output_type": "execute_result"
    }
   ],
   "source": [
    "text[:50]"
   ]
  },
  {
   "cell_type": "code",
   "execution_count": 8,
   "metadata": {},
   "outputs": [],
   "source": [
    "sent_tokens = nltk.sent_tokenize(text)"
   ]
  },
  {
   "cell_type": "code",
   "execution_count": 9,
   "metadata": {},
   "outputs": [
    {
     "data": {
      "text/plain": [
       "['Is there any purpose in the repetition of the same types of charactersthroughout your writing?',\n",
       " \"No, only that I have led all of my life has been lived in alittle Mississippi town, and there's not much variety there.\",\n",
       " 'Aawriter writes from his experience, his background, in the terms ofhis imagination and his observation.',\n",
       " 'That would be the explanation, I think.',\n",
       " 'Sir, in line with that, some of your novels pick up characters where you left them off in other novelsthat you had written a good number of years before.',\n",
       " \"For example, most of theincidents involving the Snopes, as I understand it, were written from 1929 onand yet you've come out with a book this year about the Snopes.\",\n",
       " 'Do you find itdifficult to, over a period of years, pick up those characters and carry theirpersonalities through along the same vein?',\n",
       " 'No, no, those characters to me areare quite real and quiteconstant.',\n",
       " 'They are in mymy mind all the time.',\n",
       " \"I don't have any trouble at allgoing back to pick up one.\",\n",
       " \"I forget what they did, butbutthe character I don't forget, and when the book is finished, thatcharacter is not done, he's still going on at some new devilment that sooner orlater I will find out about and write about.\",\n",
       " \"It's been said that you write about the secret of the human heart.\",\n",
       " 'Isthere one major truth of the human heart?',\n",
       " \"Well, that's a question almost metaphysical.\",\n",
       " 'I would say if there is onetruth of the human heart, it would be to believe in itself, believe initsits capacity to aspire, to be better than it is, it might be.',\n",
       " 'Thatit does exist in all people.',\n",
       " 'Sir, it has been said that at certain points in the evolution of society,an author is within the society describing his immediate surroundings and whathe sees at that time, but as that society degrades and goes down, the author isthrown out and looks as an outsider on his society such that you might see whenyou look at the [South] ?',\n",
       " 'What do you feel is your position insociety today?',\n",
       " 'Are you looking from within or are you out of the society lookingat it objectively, the South in particular?',\n",
       " \"I think that I'm still a part of society.\"]"
      ]
     },
     "execution_count": 9,
     "metadata": {},
     "output_type": "execute_result"
    }
   ],
   "source": [
    "sent_tokens[:20]"
   ]
  },
  {
   "cell_type": "code",
   "execution_count": 19,
   "metadata": {},
   "outputs": [
    {
     "data": {
      "text/plain": [
       "['<category><pattern>IS THERE ANY PURPOSE IN THE REPETITION OF THE SAME TYPES OF CHARACTERSTHROUGHOUT YOUR WRITING?</pattern>',\n",
       " \"<template>No, only that I have led all of my life has been lived in alittle Mississippi town, and there's not much variety there.</template></category>\",\n",
       " '<template>Aawriter writes from his experience, his background, in the terms ofhis imagination and his observation.</template></category>',\n",
       " '<template>That would be the explanation, I think.</template></category>',\n",
       " '<template>Sir, in line with that, some of your novels pick up characters where you left them off in other novelsthat you had written a good number of years before.</template></category>',\n",
       " \"<template>For example, most of theincidents involving the Snopes, as I understand it, were written from 1929 onand yet you've come out with a book this year about the Snopes.</template></category>\",\n",
       " '<category><pattern>DO YOU FIND ITDIFFICULT TO, OVER A PERIOD OF YEARS, PICK UP THOSE CHARACTERS AND CARRY THEIRPERSONALITIES THROUGH ALONG THE SAME VEIN?</pattern>',\n",
       " '<template>No, no, those characters to me areare quite real and quiteconstant.</template></category>',\n",
       " '<template>They are in mymy mind all the time.</template></category>',\n",
       " \"<template>I don't have any trouble at allgoing back to pick up one.</template></category>\",\n",
       " \"<template>I forget what they did, butbutthe character I don't forget, and when the book is finished, thatcharacter is not done, he's still going on at some new devilment that sooner orlater I will find out about and write about.</template></category>\",\n",
       " \"<template>It's been said that you write about the secret of the human heart.</template></category>\",\n",
       " '<category><pattern>ISTHERE ONE MAJOR TRUTH OF THE HUMAN HEART?</pattern>',\n",
       " \"<template>Well, that's a question almost metaphysical.</template></category>\",\n",
       " '<template>I would say if there is onetruth of the human heart, it would be to believe in itself, believe initsits capacity to aspire, to be better than it is, it might be.</template></category>',\n",
       " '<template>Thatit does exist in all people.</template></category>',\n",
       " '<category><pattern>SIR, IT HAS BEEN SAID THAT AT CERTAIN POINTS IN THE EVOLUTION OF SOCIETY,AN AUTHOR IS WITHIN THE SOCIETY DESCRIBING HIS IMMEDIATE SURROUNDINGS AND WHATHE SEES AT THAT TIME, BUT AS THAT SOCIETY DEGRADES AND GOES DOWN, THE AUTHOR ISTHROWN OUT AND LOOKS AS AN OUTSIDER ON HIS SOCIETY SUCH THAT YOU MIGHT SEE WHENYOU LOOK AT THE [SOUTH] ?</pattern>',\n",
       " '<category><pattern>WHAT DO YOU FEEL IS YOUR POSITION INSOCIETY TODAY?</pattern>',\n",
       " '<category><pattern>ARE YOU LOOKING FROM WITHIN OR ARE YOU OUT OF THE SOCIETY LOOKINGAT IT OBJECTIVELY, THE SOUTH IN PARTICULAR?</pattern>',\n",
       " \"<template>I think that I'm still a part of society.</template></category>\"]"
      ]
     },
     "execution_count": 19,
     "metadata": {},
     "output_type": "execute_result"
    }
   ],
   "source": [
    "dialogue = []\n",
    "oqt = \"<category><pattern>\"\n",
    "cqt = \"</pattern>\"\n",
    "\n",
    "oat = \"<template>\"\n",
    "cat = \"</template></category>\"\n",
    "for sent in sent_tokens:\n",
    "    if sent[-1] == \"?\":\n",
    "        sent = oqt + sent.upper() + cqt\n",
    "        dialogue.append(sent)\n",
    "    else:\n",
    "        sent = oat + sent + cat\n",
    "        dialogue.append(sent)\n",
    "dialogue[:20]"
   ]
  },
  {
   "cell_type": "code",
   "execution_count": 22,
   "metadata": {},
   "outputs": [],
   "source": [
    "f = open('out.txt', 'w')\n",
    "for statement in dialogue:\n",
    "    f.write(statement+\"\\n\")\n",
    "f.close()"
   ]
  }
 ],
 "metadata": {
  "kernelspec": {
   "display_name": "Python 3",
   "language": "python",
   "name": "python3"
  },
  "language_info": {
   "codemirror_mode": {
    "name": "ipython",
    "version": 3
   },
   "file_extension": ".py",
   "mimetype": "text/x-python",
   "name": "python",
   "nbconvert_exporter": "python",
   "pygments_lexer": "ipython3",
   "version": "3.6.4"
  }
 },
 "nbformat": 4,
 "nbformat_minor": 2
}
